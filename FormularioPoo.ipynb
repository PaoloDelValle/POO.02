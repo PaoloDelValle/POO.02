{
 "cells": [
  {
   "cell_type": "code",
   "execution_count": 2,
   "metadata": {},
   "outputs": [
    {
     "ename": "KeyboardInterrupt",
     "evalue": "",
     "output_type": "error",
     "traceback": [
      "\u001b[0;31m---------------------------------------------------------------------------\u001b[0m",
      "\u001b[0;31mKeyboardInterrupt\u001b[0m                         Traceback (most recent call last)",
      "Cell \u001b[0;32mIn[2], line 19\u001b[0m\n\u001b[1;32m     17\u001b[0m    lbl\u001b[38;5;241m.\u001b[39mconfigure(text\u001b[38;5;241m=\u001b[39m res)\n\u001b[1;32m     18\u001b[0m btn \u001b[38;5;241m=\u001b[39m ttk\u001b[38;5;241m.\u001b[39mButton(window ,text\u001b[38;5;241m=\u001b[39m\u001b[38;5;124m\"\u001b[39m\u001b[38;5;124mSubmit\u001b[39m\u001b[38;5;124m\"\u001b[39m)\u001b[38;5;241m.\u001b[39mgrid(row\u001b[38;5;241m=\u001b[39m\u001b[38;5;241m4\u001b[39m,column\u001b[38;5;241m=\u001b[39m\u001b[38;5;241m0\u001b[39m)\n\u001b[0;32m---> 19\u001b[0m \u001b[43mwindow\u001b[49m\u001b[38;5;241;43m.\u001b[39;49m\u001b[43mmainloop\u001b[49m\u001b[43m(\u001b[49m\u001b[43m)\u001b[49m\n",
      "File \u001b[0;32m/Library/Frameworks/Python.framework/Versions/3.8/lib/python3.8/tkinter/__init__.py:1420\u001b[0m, in \u001b[0;36mMisc.mainloop\u001b[0;34m(self, n)\u001b[0m\n\u001b[1;32m   1418\u001b[0m \u001b[38;5;28;01mdef\u001b[39;00m \u001b[38;5;21mmainloop\u001b[39m(\u001b[38;5;28mself\u001b[39m, n\u001b[38;5;241m=\u001b[39m\u001b[38;5;241m0\u001b[39m):\n\u001b[1;32m   1419\u001b[0m \u001b[38;5;250m    \u001b[39m\u001b[38;5;124;03m\"\"\"Call the mainloop of Tk.\"\"\"\u001b[39;00m\n\u001b[0;32m-> 1420\u001b[0m     \u001b[38;5;28;43mself\u001b[39;49m\u001b[38;5;241;43m.\u001b[39;49m\u001b[43mtk\u001b[49m\u001b[38;5;241;43m.\u001b[39;49m\u001b[43mmainloop\u001b[49m\u001b[43m(\u001b[49m\u001b[43mn\u001b[49m\u001b[43m)\u001b[49m\n",
      "\u001b[0;31mKeyboardInterrupt\u001b[0m: "
     ]
    }
   ],
   "source": [
    "from tkinter import * \n",
    "from tkinter import ttk #importar las librerias\n",
    "window = Tk()\n",
    "window.title(\"Welcome to TutorialsPoint\") #titulo de la ventana\n",
    "window.geometry('400x400') #Tamaño de la ventana\n",
    "window.configure(background = \"blue\");#Color del fonfo de la ventana\n",
    "a = Label(window ,text = \"Nombre\").grid(row = 0,column = 0)\n",
    "b = Label(window ,text = \"Apellido\").grid(row = 1,column = 0)\n",
    "c = Label(window ,text = \"Mail\").grid(row = 2,column = 0)\n",
    "d = Label(window ,text = \"Numero de contacto\").grid(row = 3,column = 0)\n",
    "a1 = Entry(window).grid(row = 0,column = 1)\n",
    "b1 = Entry(window).grid(row = 1,column = 1)\n",
    "c1 = Entry(window).grid(row = 2,column = 1)\n",
    "d1 = Entry(window).grid(row = 3,column = 1)\n",
    "def clicked():\n",
    "   res = \"Welcome to \" + txt.get()\n",
    "   lbl.configure(text= res)\n",
    "btn = ttk.Button(window ,text=\"Submit\").grid(row=4,column=0) #ttk enseña el boton en la ventana #text enseña el texto en la ventana y grid enseña en formato grid\n",
    "window.mainloop() #Aparezca la ventana hasta que cierre\n"
   ]
  }
 ],
 "metadata": {
  "kernelspec": {
   "display_name": "Python 3",
   "language": "python",
   "name": "python3"
  },
  "language_info": {
   "codemirror_mode": {
    "name": "ipython",
    "version": 3
   },
   "file_extension": ".py",
   "mimetype": "text/x-python",
   "name": "python",
   "nbconvert_exporter": "python",
   "pygments_lexer": "ipython3",
   "version": "3.8.2"
  }
 },
 "nbformat": 4,
 "nbformat_minor": 2
}
