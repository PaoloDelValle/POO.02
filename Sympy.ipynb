{
  "cells": [
    {
      "cell_type": "markdown",
      "metadata": {
        "id": "1MfgMxTL7VPv"
      },
      "source": [
        "# SymPy - Álgebra en Python"
      ]
    },
    {
      "cell_type": "code",
      "execution_count": 4,
      "metadata": {
        "id": "N1WnD-ee7VP9"
      },
      "outputs": [],
      "source": [
        "from sympy import *"
      ]
    },
    {
      "cell_type": "markdown",
      "metadata": {
        "id": "LZxRVY_B7VP_"
      },
      "source": [
        "## Symbolic variables"
      ]
    },
    {
      "cell_type": "markdown",
      "metadata": {
        "id": "_5ppRUkn7VQA"
      },
      "source": [
        "En SymPy necesitamos crear símbolos para las variables con las que queremos trabajar. Podemos crear un nuevo símbolo usando la clase`Symbol`:"
      ]
    },
    {
      "cell_type": "code",
      "execution_count": 5,
      "metadata": {
        "id": "pWrKucmb7VQA"
      },
      "outputs": [],
      "source": [
        "x = Symbol('x')\n",
        "# declaras con symbol y en el argumento entre comillas lo que quieres que sea tratado como una varibale"
      ]
    },
    {
      "cell_type": "code",
      "execution_count": 6,
      "metadata": {
        "id": "XhMUCphO7VQD"
      },
      "outputs": [],
      "source": [
        "a, b, c = symbols(\"a, b, c\")\n",
        "# con este es en plural para declarar muchas variables"
      ]
    },
    {
      "cell_type": "markdown",
      "metadata": {
        "id": "_FFT6qe47VQG"
      },
      "source": [
        "Podemos agregar suposiciones a los símbolos cuando los creamos:"
      ]
    },
    {
      "cell_type": "code",
      "execution_count": 7,
      "metadata": {
        "id": "HLZrwFQ47VQH"
      },
      "outputs": [],
      "source": [
        "x = Symbol('x', real=True)\n",
        "# se redefine la variable / si pones true va a ser un numero real y false va a ser imaginario"
      ]
    },
    {
      "cell_type": "code",
      "execution_count": 8,
      "metadata": {
        "id": "SjDqUGMY7VQI",
        "outputId": "99717c7c-78ec-4e7a-ef61-be2aa83988ee",
        "colab": {
          "base_uri": "https://localhost:8080/"
        }
      },
      "outputs": [
        {
          "output_type": "execute_result",
          "data": {
            "text/plain": [
              "False"
            ]
          },
          "metadata": {},
          "execution_count": 8
        }
      ],
      "source": [
        "x.is_imaginary # confirmas que esta declarado que es real ya que devuelve negativo a imaginario"
      ]
    },
    {
      "cell_type": "code",
      "execution_count": 9,
      "metadata": {
        "id": "4_gvZnR47VQI"
      },
      "outputs": [],
      "source": [
        "x = Symbol('x', positive=True)\n",
        "# declaras que es positivo la variable x"
      ]
    },
    {
      "cell_type": "code",
      "execution_count": 10,
      "metadata": {
        "id": "rwLUdZMA7VQJ",
        "outputId": "bbc71c3d-f856-4fc1-97b4-4e80a5b8c318",
        "colab": {
          "base_uri": "https://localhost:8080/",
          "height": 37
        }
      },
      "outputs": [
        {
          "output_type": "execute_result",
          "data": {
            "text/plain": [
              "True"
            ],
            "text/latex": "$\\displaystyle \\text{True}$"
          },
          "metadata": {},
          "execution_count": 10
        }
      ],
      "source": [
        "x > 0\n",
        "# confirmas que es positivo ya que devuelve verdadero a que es mauyor que 0"
      ]
    },
    {
      "cell_type": "markdown",
      "metadata": {
        "id": "ZrKbynzL7VQq"
      },
      "source": [
        "## Manipulaciones Algebraicas"
      ]
    },
    {
      "cell_type": "markdown",
      "metadata": {
        "id": "AmjqzaBB7VQr"
      },
      "source": [
        "### Expand // factor"
      ]
    },
    {
      "cell_type": "code",
      "execution_count": 11,
      "metadata": {
        "id": "APqtrrkI7VQs",
        "outputId": "fc2098cd-f0e4-4197-fa52-9cf6eaec8c76",
        "colab": {
          "base_uri": "https://localhost:8080/",
          "height": 39
        }
      },
      "outputs": [
        {
          "output_type": "execute_result",
          "data": {
            "text/plain": [
              "(x + 1)*(x + 2)*(x + 3)"
            ],
            "text/latex": "$\\displaystyle \\left(x + 1\\right) \\left(x + 2\\right) \\left(x + 3\\right)$"
          },
          "metadata": {},
          "execution_count": 11
        }
      ],
      "source": [
        "(x+1)*(x+2)*(x+3)\n",
        "# creas funciones con la variable ya definida"
      ]
    },
    {
      "cell_type": "code",
      "execution_count": 12,
      "metadata": {
        "id": "dx9RlN8g7VQs",
        "outputId": "8bf3853a-1d92-4d09-c5a7-870f7ccc11e2",
        "colab": {
          "base_uri": "https://localhost:8080/",
          "height": 39
        }
      },
      "outputs": [
        {
          "output_type": "execute_result",
          "data": {
            "text/plain": [
              "x**3 + 6*x**2 + 11*x + 6"
            ],
            "text/latex": "$\\displaystyle x^{3} + 6 x^{2} + 11 x + 6$"
          },
          "metadata": {},
          "execution_count": 12
        }
      ],
      "source": [
        "expand((x+1)*(x+2)*(x+3))\n",
        "# usas expand para desarrollar una funcion"
      ]
    },
    {
      "cell_type": "markdown",
      "metadata": {
        "id": "xzH5Kl6M7VQv"
      },
      "source": [
        "Lo opuesto a la expansión del producto es, por supuesto, factorizar. Para factorizar una expresión en SymPy use el `factor`:"
      ]
    },
    {
      "cell_type": "code",
      "execution_count": 13,
      "metadata": {
        "id": "yXNL1rle7VQw",
        "outputId": "149b46fb-2a69-47ff-adc2-e18720664bf0",
        "colab": {
          "base_uri": "https://localhost:8080/",
          "height": 39
        }
      },
      "outputs": [
        {
          "output_type": "execute_result",
          "data": {
            "text/plain": [
              "(x + 1)*(x + 2)*(x + 3)"
            ],
            "text/latex": "$\\displaystyle \\left(x + 1\\right) \\left(x + 2\\right) \\left(x + 3\\right)$"
          },
          "metadata": {},
          "execution_count": 13
        }
      ],
      "source": [
        "factor(x**3 + 6 * x**2 + 11*x + 6)\n",
        "# factor factoriza la funcion osea el reciproco de expand"
      ]
    },
    {
      "cell_type": "markdown",
      "metadata": {
        "id": "ukuul-xc7VQw"
      },
      "source": [
        "### Simplify"
      ]
    },
    {
      "cell_type": "code",
      "execution_count": 14,
      "metadata": {
        "id": "rYsLwwSl7VQx",
        "outputId": "e214fb7e-8ba0-4f17-feac-034b33a02f3f",
        "colab": {
          "base_uri": "https://localhost:8080/",
          "height": 39
        }
      },
      "outputs": [
        {
          "output_type": "execute_result",
          "data": {
            "text/plain": [
              "(x + 1)*(x + 2)*(x + 3)"
            ],
            "text/latex": "$\\displaystyle \\left(x + 1\\right) \\left(x + 2\\right) \\left(x + 3\\right)$"
          },
          "metadata": {},
          "execution_count": 14
        }
      ],
      "source": [
        "simplify((x+1)*(x+2)*(x+3))\n"
      ]
    },
    {
      "cell_type": "code",
      "execution_count": 15,
      "metadata": {
        "id": "NpPlwjUv7VQy",
        "outputId": "d4d9c413-6c11-4249-f08d-542f943763e6",
        "colab": {
          "base_uri": "https://localhost:8080/",
          "height": 37
        }
      },
      "outputs": [
        {
          "output_type": "execute_result",
          "data": {
            "text/plain": [
              "1"
            ],
            "text/latex": "$\\displaystyle 1$"
          },
          "metadata": {},
          "execution_count": 15
        }
      ],
      "source": [
        "simplify(sin(a)**2 + cos(a)**2)\n",
        "# simplifica la funcion depende de sus posibilidades"
      ]
    },
    {
      "cell_type": "code",
      "execution_count": 16,
      "metadata": {
        "id": "BWvw5Jhj7VQz",
        "outputId": "f7d4c488-69d5-4c83-cb86-d6e12d079852",
        "colab": {
          "base_uri": "https://localhost:8080/",
          "height": 55
        }
      },
      "outputs": [
        {
          "output_type": "execute_result",
          "data": {
            "text/plain": [
              "1/tan(x)"
            ],
            "text/latex": "$\\displaystyle \\frac{1}{\\tan{\\left(x \\right)}}$"
          },
          "metadata": {},
          "execution_count": 16
        }
      ],
      "source": [
        "simplify(cos(x)/sin(x))"
      ]
    },
    {
      "cell_type": "markdown",
      "metadata": {
        "id": "4PXwQojE7VQz"
      },
      "source": [
        "### apart // together"
      ]
    },
    {
      "cell_type": "markdown",
      "metadata": {
        "id": "vcRxJ6tG7VQ0"
      },
      "source": [
        "Para manipular expresiones simbólicas de fracciones, usamos `apart` y `together`:"
      ]
    },
    {
      "cell_type": "code",
      "execution_count": 17,
      "metadata": {
        "id": "hCDJ9NAu7VQ0"
      },
      "outputs": [],
      "source": [
        "f1 = 1/((a+1)*(a+2))"
      ]
    },
    {
      "cell_type": "code",
      "execution_count": 18,
      "metadata": {
        "id": "TWStHNqC7VQ1",
        "outputId": "9b965c61-fd58-4fb4-eb0d-04fb3ac687db",
        "colab": {
          "base_uri": "https://localhost:8080/",
          "height": 55
        }
      },
      "outputs": [
        {
          "output_type": "execute_result",
          "data": {
            "text/plain": [
              "1/((a + 1)*(a + 2))"
            ],
            "text/latex": "$\\displaystyle \\frac{1}{\\left(a + 1\\right) \\left(a + 2\\right)}$"
          },
          "metadata": {},
          "execution_count": 18
        }
      ],
      "source": [
        "f1"
      ]
    },
    {
      "cell_type": "code",
      "execution_count": 19,
      "metadata": {
        "id": "8sQ3v9ZE7VQ3",
        "outputId": "43fec32b-3697-47c3-e568-73a212e0d5ce",
        "colab": {
          "base_uri": "https://localhost:8080/",
          "height": 52
        }
      },
      "outputs": [
        {
          "output_type": "execute_result",
          "data": {
            "text/plain": [
              "-1/(a + 2) + 1/(a + 1)"
            ],
            "text/latex": "$\\displaystyle - \\frac{1}{a + 2} + \\frac{1}{a + 1}$"
          },
          "metadata": {},
          "execution_count": 19
        }
      ],
      "source": [
        "apart(f1)"
      ]
    },
    {
      "cell_type": "code",
      "execution_count": 20,
      "metadata": {
        "id": "Y3Ugzn6K7VQ3"
      },
      "outputs": [],
      "source": [
        "f2 = 1/(a+2) + 1/(a+3)"
      ]
    },
    {
      "cell_type": "code",
      "execution_count": 21,
      "metadata": {
        "id": "xiPLgN3N7VQ4",
        "outputId": "00a918a4-9df0-4400-b0a9-99b53abc02b7",
        "colab": {
          "base_uri": "https://localhost:8080/",
          "height": 52
        }
      },
      "outputs": [
        {
          "output_type": "execute_result",
          "data": {
            "text/plain": [
              "1/(a + 3) + 1/(a + 2)"
            ],
            "text/latex": "$\\displaystyle \\frac{1}{a + 3} + \\frac{1}{a + 2}$"
          },
          "metadata": {},
          "execution_count": 21
        }
      ],
      "source": [
        "f2"
      ]
    },
    {
      "cell_type": "code",
      "execution_count": 22,
      "metadata": {
        "id": "j67nZJKE7VQ5",
        "outputId": "e789fc2f-340f-4f17-893b-0a2e79ee6d2b",
        "colab": {
          "base_uri": "https://localhost:8080/",
          "height": 55
        }
      },
      "outputs": [
        {
          "output_type": "execute_result",
          "data": {
            "text/plain": [
              "(2*a + 5)/((a + 2)*(a + 3))"
            ],
            "text/latex": "$\\displaystyle \\frac{2 a + 5}{\\left(a + 2\\right) \\left(a + 3\\right)}$"
          },
          "metadata": {},
          "execution_count": 22
        }
      ],
      "source": [
        "together(f2)"
      ]
    },
    {
      "cell_type": "markdown",
      "metadata": {
        "id": "Ruoyngry7VQ6"
      },
      "source": [
        "## Algo de cálculo"
      ]
    },
    {
      "cell_type": "markdown",
      "metadata": {
        "id": "f6mNvbTb7VQ7"
      },
      "source": [
        "### Diferenciación"
      ]
    },
    {
      "cell_type": "markdown",
      "metadata": {
        "id": "r9fjw1S27VQ7"
      },
      "source": [
        "Se usa `diff`. El primer argumento es la expresión de la cual tomar la derivada, y el segundo argumento es el símbolo por el cual tomar la derivada.:"
      ]
    },
    {
      "cell_type": "code",
      "execution_count": 23,
      "metadata": {
        "id": "A0GalJVt7VRB"
      },
      "outputs": [],
      "source": [
        "x, y, z = symbols(\"x,y,z\") # defines las variables"
      ]
    },
    {
      "cell_type": "code",
      "execution_count": 24,
      "metadata": {
        "id": "NcIX0XfS7VRB"
      },
      "outputs": [],
      "source": [
        "f = sin(x*y) + cos(y*z) # defines la funcion"
      ]
    },
    {
      "cell_type": "markdown",
      "metadata": {
        "id": "9IxbDR0w7VRB"
      },
      "source": [
        "$\\frac{d^3f}{dxdy^2}$"
      ]
    },
    {
      "cell_type": "code",
      "execution_count": 25,
      "metadata": {
        "id": "WcLuaiTR7VRB",
        "outputId": "659956d1-e41c-49e9-c510-a4afa3c674ce",
        "colab": {
          "base_uri": "https://localhost:8080/",
          "height": 39
        }
      },
      "outputs": [
        {
          "output_type": "execute_result",
          "data": {
            "text/plain": [
              "-x*(x*y*cos(x*y) + 2*sin(x*y))"
            ],
            "text/latex": "$\\displaystyle - x \\left(x y \\cos{\\left(x y \\right)} + 2 \\sin{\\left(x y \\right)}\\right)$"
          },
          "metadata": {},
          "execution_count": 25
        }
      ],
      "source": [
        "diff(f, x, 1, y, 2) # comando para derivar en orden funcion, variable, y las veces que quieres derivar"
      ]
    },
    {
      "cell_type": "markdown",
      "metadata": {
        "id": "lakj2lpd7VRC"
      },
      "source": [
        "## Integración"
      ]
    },
    {
      "cell_type": "code",
      "execution_count": 26,
      "metadata": {
        "id": "Ej0O1uJw7VRC",
        "outputId": "ac322840-5157-47dc-8269-97469ddbaa20",
        "colab": {
          "base_uri": "https://localhost:8080/",
          "height": 39
        }
      },
      "outputs": [
        {
          "output_type": "execute_result",
          "data": {
            "text/plain": [
              "sin(x*y) + cos(y*z)"
            ],
            "text/latex": "$\\displaystyle \\sin{\\left(x y \\right)} + \\cos{\\left(y z \\right)}$"
          },
          "metadata": {},
          "execution_count": 26
        }
      ],
      "source": [
        "f # vuelves a llamar la funcion ya creada"
      ]
    },
    {
      "cell_type": "code",
      "execution_count": 27,
      "metadata": {
        "id": "c2Nd5uzb7VRD",
        "outputId": "4ec39a8f-7208-4216-f178-6d69a4d1f581",
        "colab": {
          "base_uri": "https://localhost:8080/",
          "height": 68
        }
      },
      "outputs": [
        {
          "output_type": "execute_result",
          "data": {
            "text/plain": [
              "x*cos(y*z) + Piecewise((-cos(x*y)/y, Ne(y, 0)), (0, True))"
            ],
            "text/latex": "$\\displaystyle x \\cos{\\left(y z \\right)} + \\begin{cases} - \\frac{\\cos{\\left(x y \\right)}}{y} & \\text{for}\\: y \\neq 0 \\\\0 & \\text{otherwise} \\end{cases}$"
          },
          "metadata": {},
          "execution_count": 27
        }
      ],
      "source": [
        "integrate(f, x) # comando para integrar indefinidas en orden funcion, variable"
      ]
    },
    {
      "cell_type": "markdown",
      "metadata": {
        "id": "DuDfKVKk7VRE"
      },
      "source": [
        "Al proporcionar límites para la variable de integración podemos evaluar integrales definidas:"
      ]
    },
    {
      "cell_type": "code",
      "execution_count": 28,
      "metadata": {
        "id": "1-NyOPe57VRE",
        "outputId": "3a237850-8825-469d-8cad-064e0f4569e8",
        "colab": {
          "base_uri": "https://localhost:8080/",
          "height": 39
        }
      },
      "outputs": [
        {
          "output_type": "execute_result",
          "data": {
            "text/plain": [
              "2*cos(y*z)"
            ],
            "text/latex": "$\\displaystyle 2 \\cos{\\left(y z \\right)}$"
          },
          "metadata": {},
          "execution_count": 28
        }
      ],
      "source": [
        "integrate(f, (x, -1, 1)) # comando para integrar definidas en orden funcion, variable, limite inferior, limite superior"
      ]
    },
    {
      "cell_type": "markdown",
      "metadata": {
        "id": "YhcKo9Vo7VRF"
      },
      "source": [
        "e integrales impropias"
      ]
    },
    {
      "cell_type": "code",
      "execution_count": 29,
      "metadata": {
        "id": "kOjxUjuH7VRJ",
        "outputId": "dd1a74c7-d0de-40fe-db8e-afe9d7205366",
        "colab": {
          "base_uri": "https://localhost:8080/",
          "height": 37
        }
      },
      "outputs": [
        {
          "output_type": "execute_result",
          "data": {
            "text/plain": [
              "sqrt(pi)"
            ],
            "text/latex": "$\\displaystyle \\sqrt{\\pi}$"
          },
          "metadata": {},
          "execution_count": 29
        }
      ],
      "source": [
        "integrate(exp(-x**2), (x, -oo, oo)) # mismo comando para integrar definido solo que con limites de menos infinito a infinito"
      ]
    },
    {
      "cell_type": "markdown",
      "metadata": {
        "id": "XUGMnXe47VRM"
      },
      "source": [
        "`oo` es la notación en SymPy para inifinito."
      ]
    },
    {
      "cell_type": "markdown",
      "metadata": {
        "id": "vGgjPDDF7VRm"
      },
      "source": [
        "* http://sympy.org/en/index.html\n",
        "* https://github.com/sympy/sympy\n",
        "* http://live.sympy.org"
      ]
    },
    {
      "cell_type": "code",
      "source": [],
      "metadata": {
        "id": "yeqjGR9L_HEa"
      },
      "execution_count": 29,
      "outputs": []
    }
  ],
  "metadata": {
    "kernelspec": {
      "display_name": "Python 2",
      "language": "python",
      "name": "python2"
    },
    "language_info": {
      "codemirror_mode": {
        "name": "ipython",
        "version": 2
      },
      "file_extension": ".py",
      "mimetype": "text/x-python",
      "name": "python",
      "nbconvert_exporter": "python",
      "pygments_lexer": "ipython2",
      "version": "2.7.10"
    },
    "colab": {
      "provenance": []
    }
  },
  "nbformat": 4,
  "nbformat_minor": 0
}